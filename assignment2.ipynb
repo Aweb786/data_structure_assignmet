{
 "cells": [
  {
   "cell_type": "code",
   "execution_count": 1,
   "id": "277ba76e-da26-461a-b50b-83f3aec5a955",
   "metadata": {},
   "outputs": [
    {
     "data": {
      "text/plain": [
       "'\\nthis is a comment\\nwhich is written \\nmore than one line\\n'"
      ]
     },
     "execution_count": 1,
     "metadata": {},
     "output_type": "execute_result"
    }
   ],
   "source": [
    "# 1.there are basically two way for commenting  codes in python which are such as\n",
    " # this is single line comment\n",
    "\"\"\"\n",
    "this is a comment\n",
    "which is written \n",
    "more than one line\n",
    "\"\"\"   \n",
    "\n",
    "    \n",
    "\n"
   ]
  },
  {
   "cell_type": "code",
   "execution_count": 2,
   "id": "4309d7c3-0ce8-4fb5-892d-a21f7ac7a8c1",
   "metadata": {},
   "outputs": [],
   "source": [
    "# 2.variables are nothing but they are cantainer which stores the value\n",
    "a=34\n",
    "# here 'a' is a variable which stores the int type value(34)\n",
    "b=45.6\n",
    "#here 'b' is a variable which stores the float type value(45.6)\n",
    "c=True\n",
    "#here 'c' is a variable which stores the bool type value\n"
   ]
  },
  {
   "cell_type": "code",
   "execution_count": 3,
   "id": "ab0412a3-8cdc-430a-bec1-84beaf84dd05",
   "metadata": {},
   "outputs": [
    {
     "data": {
      "text/plain": [
       "float"
      ]
     },
     "execution_count": 3,
     "metadata": {},
     "output_type": "execute_result"
    }
   ],
   "source": [
    "# we can convert one data type into another data type something like this...\n",
    "a=45.6\n",
    "\n",
    "\n",
    "type(a)\n"
   ]
  },
  {
   "cell_type": "code",
   "execution_count": 8,
   "id": "283adf67-e329-4dec-aeaa-e451a7db0e36",
   "metadata": {},
   "outputs": [
    {
     "data": {
      "text/plain": [
       "45"
      ]
     },
     "execution_count": 8,
     "metadata": {},
     "output_type": "execute_result"
    }
   ],
   "source": [
    "#converting float data type into int data type\n",
    "int(a)\n"
   ]
  },
  {
   "cell_type": "code",
   "execution_count": 9,
   "id": "86dee549-08c9-48a4-a694-3bf07719e83e",
   "metadata": {},
   "outputs": [
    {
     "name": "stdout",
     "output_type": "stream",
     "text": [
      "0x2d\n"
     ]
    }
   ],
   "source": [
    "b=45\n",
    "#converting int data type into hexadecimal string\n",
    "c=hex(45)\n",
    "print(c)\n"
   ]
  },
  {
   "cell_type": "code",
   "execution_count": 10,
   "id": "19869093-e786-4a08-80e5-cd33b823408a",
   "metadata": {},
   "outputs": [
    {
     "name": "stdout",
     "output_type": "stream",
     "text": [
      "0o55\n"
     ]
    }
   ],
   "source": [
    "#converting int data type into octal string\n",
    "d=oct(45)\n",
    "print(d)"
   ]
  },
  {
   "cell_type": "code",
   "execution_count": 14,
   "id": "f73c030d-5fa7-4799-a87e-f821cbae380c",
   "metadata": {},
   "outputs": [
    {
     "name": "stdout",
     "output_type": "stream",
     "text": [
      "after converting string into tuple ('s', 'k', 'i', 'l', 'l', 's')\n"
     ]
    }
   ],
   "source": [
    "n=\"skills\"\n",
    "c=tuple(n)\n",
    "print(\"after converting string into tuple\" ,end=' ')\n",
    "print(c)\n",
    "\n"
   ]
  },
  {
   "cell_type": "code",
   "execution_count": 15,
   "id": "38ca26f4-1d92-4bd1-8bea-b509371731d1",
   "metadata": {},
   "outputs": [
    {
     "name": "stdout",
     "output_type": "stream",
     "text": [
      "after converting string into list :  ['s', 'k', 'i', 'l', 'l', 's']\n"
     ]
    }
   ],
   "source": [
    "c=list(n)\n",
    "print(\"after converting string into list : \" ,end=' ')\n",
    "print(c)"
   ]
  },
  {
   "cell_type": "code",
   "execution_count": null,
   "id": "8393a9ee-27d4-457a-a628-ce2d6052aeea",
   "metadata": {},
   "outputs": [],
   "source": [
    "# 4. execution of python code using command line this is..\n",
    "'''The most basic and easy way to run a Python script is by using the python command. You need to open a command line and type the word python followed by the path to your script file like this:\n",
    "\n",
    "python first_script.py\n",
    "Hello World!'''"
   ]
  },
  {
   "cell_type": "code",
   "execution_count": 17,
   "id": "2a234f67-a328-490c-940f-3dbd2c3d45ba",
   "metadata": {},
   "outputs": [
    {
     "data": {
      "text/plain": [
       "[2, 3, 4, 5]"
      ]
     },
     "execution_count": 17,
     "metadata": {},
     "output_type": "execute_result"
    }
   ],
   "source": [
    "#5. slicing the list\n",
    "my_list = [1, 2, 3, 4, 5]\n",
    "my_list[1:5]\n",
    " "
   ]
  },
  {
   "cell_type": "code",
   "execution_count": 18,
   "id": "4df398bd-22cf-4d16-82e1-0e03d691ffa3",
   "metadata": {},
   "outputs": [
    {
     "data": {
      "text/plain": [
       "[1, 2, 3, 4, 5]"
      ]
     },
     "execution_count": 18,
     "metadata": {},
     "output_type": "execute_result"
    }
   ],
   "source": [
    "my_list[:5:1]"
   ]
  },
  {
   "cell_type": "code",
   "execution_count": 19,
   "id": "bdb46f5e-9132-417e-be53-4eb60167ace5",
   "metadata": {},
   "outputs": [
    {
     "data": {
      "text/plain": [
       "[1, 2, 3, 4, 5]"
      ]
     },
     "execution_count": 19,
     "metadata": {},
     "output_type": "execute_result"
    }
   ],
   "source": [
    "my_list[::]"
   ]
  },
  {
   "cell_type": "code",
   "execution_count": 20,
   "id": "cee982a9-2f21-4c8e-a041-2ac12dd45c42",
   "metadata": {},
   "outputs": [
    {
     "data": {
      "text/plain": [
       "[]"
      ]
     },
     "execution_count": 20,
     "metadata": {},
     "output_type": "execute_result"
    }
   ],
   "source": [
    "my_list[-1:-4]"
   ]
  },
  {
   "cell_type": "code",
   "execution_count": 21,
   "id": "7b8d95e5-2dab-4174-b1ec-32eb5aea1ff3",
   "metadata": {},
   "outputs": [
    {
     "data": {
      "text/plain": [
       "[2, 3, 4]"
      ]
     },
     "execution_count": 21,
     "metadata": {},
     "output_type": "execute_result"
    }
   ],
   "source": [
    "my_list[-4:-1]"
   ]
  },
  {
   "cell_type": "code",
   "execution_count": 23,
   "id": "52425942-cbfe-4db4-8a0f-d2bedf8738be",
   "metadata": {},
   "outputs": [
    {
     "data": {
      "text/plain": [
       "[2, 3]"
      ]
     },
     "execution_count": 23,
     "metadata": {},
     "output_type": "execute_result"
    }
   ],
   "source": [
    "my_list[1:3]"
   ]
  },
  {
   "cell_type": "code",
   "execution_count": 28,
   "id": "59aa1d4e-220b-495b-bc2b-7e5375f80c54",
   "metadata": {},
   "outputs": [
    {
     "name": "stdout",
     "output_type": "stream",
     "text": [
      "complex number is: (4+6j)\n",
      "real part is: 4.0\n",
      "imaginary part is: 6.0\n"
     ]
    }
   ],
   "source": [
    "# 6. complex number is the combination of real number and integer number...\n",
    "\"\"\"\n",
    "we can assign \n",
    "a complex number like this\n",
    "\"\"\"\n",
    "a,b=(4,6)\n",
    "c=complex(a,b)\n",
    "print(\"complex number is:\", c)\n",
    "print(\"real part is:\" , c.real)\n",
    "print(\"imaginary part is:\" , c.imag)\n",
    "\n",
    "\n",
    "   "
   ]
  },
  {
   "cell_type": "code",
   "execution_count": 29,
   "id": "2cc75564-e14a-4977-aa44-03cf13d7f82a",
   "metadata": {},
   "outputs": [
    {
     "name": "stdout",
     "output_type": "stream",
     "text": [
      "25\n"
     ]
    }
   ],
   "source": [
    "# 7. the correct way to declare a variable named age and assign the value 25\n",
    "a=25\n",
    "print(a)"
   ]
  },
  {
   "cell_type": "code",
   "execution_count": 30,
   "id": "a796bf29-f88a-4d31-b744-77872a24f0dd",
   "metadata": {},
   "outputs": [
    {
     "data": {
      "text/plain": [
       "float"
      ]
     },
     "execution_count": 30,
     "metadata": {},
     "output_type": "execute_result"
    }
   ],
   "source": [
    "# 8. Declare a variable named price and assign the value 9.99\n",
    "price=9.99\n",
    "#it cantains float value\n",
    "type(price)\n",
    "\n"
   ]
  },
  {
   "cell_type": "code",
   "execution_count": 33,
   "id": "5427abba-184e-4121-8a00-e06d51c80dfc",
   "metadata": {},
   "outputs": [
    {
     "name": "stdout",
     "output_type": "stream",
     "text": [
      "AZHARUDDIN ALAM\n"
     ]
    }
   ],
   "source": [
    "#9. Create a variable named name and assign your full name to it as a string.\n",
    "name=\"AZHARUDDIN ALAM\"\n",
    "print(name)\n"
   ]
  },
  {
   "cell_type": "code",
   "execution_count": 37,
   "id": "acb9a1c6-76f5-42b4-9ebb-ff13cde529da",
   "metadata": {},
   "outputs": [
    {
     "data": {
      "text/plain": [
       "' World'"
      ]
     },
     "execution_count": 37,
     "metadata": {},
     "output_type": "execute_result"
    }
   ],
   "source": [
    "# 10.Given the string \"Hello, World!\", extract the substring \"World\".\n",
    "st=\"Hello, World!\"\n",
    "st[6:12]"
   ]
  },
  {
   "cell_type": "code",
   "execution_count": null,
   "id": "778f228b-b325-4d10-8371-e5704795a577",
   "metadata": {},
   "outputs": [],
   "source": [
    "# "
   ]
  }
 ],
 "metadata": {
  "kernelspec": {
   "display_name": "Python 3 (ipykernel)",
   "language": "python",
   "name": "python3"
  },
  "language_info": {
   "codemirror_mode": {
    "name": "ipython",
    "version": 3
   },
   "file_extension": ".py",
   "mimetype": "text/x-python",
   "name": "python",
   "nbconvert_exporter": "python",
   "pygments_lexer": "ipython3",
   "version": "3.10.8"
  }
 },
 "nbformat": 4,
 "nbformat_minor": 5
}
